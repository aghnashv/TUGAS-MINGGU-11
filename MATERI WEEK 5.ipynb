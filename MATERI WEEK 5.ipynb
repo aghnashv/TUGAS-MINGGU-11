{
 "cells": [
  {
   "cell_type": "markdown",
   "id": "0c2ad944-117d-4a48-bb31-2ff5462d0b88",
   "metadata": {},
   "source": [
    "### Minggu 5 - Perulangan For dan While"
   ]
  },
  {
   "cell_type": "code",
   "execution_count": 27,
   "id": "b343ff33-7478-4cb7-935d-e898c1d95412",
   "metadata": {},
   "outputs": [
    {
     "name": "stdout",
     "output_type": "stream",
     "text": [
      "Perulangan ke- 0\n",
      "Perulangan ke- 1\n",
      "Perulangan ke- 2\n",
      "Perulangan ke- 3\n",
      "Perulangan ke- 4\n",
      "Perulangan ke- 5\n",
      "Perulangan ke- 6\n",
      "Perulangan ke- 7\n",
      "Perulangan ke- 8\n",
      "Perulangan ke- 9\n"
     ]
    }
   ],
   "source": [
    "perulangan=10\n",
    "for i in range(perulangan):\n",
    "    print(\"Perulangan ke-\", i)"
   ]
  },
  {
   "cell_type": "code",
   "execution_count": 33,
   "id": "b74a7ad7-2c2e-4498-be3b-2006ff25352e",
   "metadata": {},
   "outputs": [
    {
     "name": "stdin",
     "output_type": "stream",
     "text": [
      "masukkan data 21\n",
      "masukkan data 17\n",
      "masukkan data 07\n",
      "masukkan data 07\n"
     ]
    }
   ],
   "source": [
    "n=4\n",
    "x=[ ]\n",
    "for i in range(n):\n",
    "    x.append(int(input(\"masukkan data\")))"
   ]
  },
  {
   "cell_type": "code",
   "execution_count": 31,
   "id": "8196c921-550a-486b-9c16-6c9c9c6d2931",
   "metadata": {},
   "outputs": [
    {
     "name": "stdout",
     "output_type": "stream",
     "text": [
      "2\n",
      "3\n",
      "4\n",
      "5\n",
      "6\n"
     ]
    }
   ],
   "source": [
    "for i in range(5):\n",
    "    i+=2\n",
    "    print(i)"
   ]
  },
  {
   "cell_type": "code",
   "execution_count": 34,
   "id": "f8211040-7f2d-4990-825d-6c045e942d19",
   "metadata": {},
   "outputs": [
    {
     "name": "stdin",
     "output_type": "stream",
     "text": [
      "masukkan data  21\n"
     ]
    },
    {
     "name": "stdout",
     "output_type": "stream",
     "text": [
      "masukkan data  [21]\n"
     ]
    },
    {
     "name": "stdin",
     "output_type": "stream",
     "text": [
      "masukkan data  17\n"
     ]
    },
    {
     "name": "stdout",
     "output_type": "stream",
     "text": [
      "masukkan data  [21, 17]\n"
     ]
    },
    {
     "name": "stdin",
     "output_type": "stream",
     "text": [
      "masukkan data  07\n"
     ]
    },
    {
     "name": "stdout",
     "output_type": "stream",
     "text": [
      "masukkan data  [21, 17, 7]\n"
     ]
    },
    {
     "name": "stdin",
     "output_type": "stream",
     "text": [
      "masukkan data  96\n"
     ]
    },
    {
     "name": "stdout",
     "output_type": "stream",
     "text": [
      "masukkan data  [21, 17, 7, 96]\n"
     ]
    },
    {
     "name": "stdin",
     "output_type": "stream",
     "text": [
      "masukkan data  06\n"
     ]
    },
    {
     "name": "stdout",
     "output_type": "stream",
     "text": [
      "masukkan data  [21, 17, 7, 96, 6]\n"
     ]
    }
   ],
   "source": [
    "n=5\n",
    "x=[ ]\n",
    "for i in range(n):\n",
    "    x.append(int(input(\"masukkan data \")))\n",
    "    print(\"masukkan data \", x)"
   ]
  },
  {
   "cell_type": "code",
   "execution_count": 35,
   "id": "25b0854d-c35c-41a3-98e8-d2d4dfd98136",
   "metadata": {},
   "outputs": [
    {
     "name": "stdout",
     "output_type": "stream",
     "text": [
      "4\n",
      "5\n",
      "6\n",
      "7\n",
      "8\n"
     ]
    }
   ],
   "source": [
    "for i in range(5):\n",
    "    i=i+4\n",
    "    print(i)"
   ]
  },
  {
   "cell_type": "code",
   "execution_count": 36,
   "id": "67e32984-105b-4c55-b8ec-720d417bfb39",
   "metadata": {},
   "outputs": [
    {
     "name": "stdout",
     "output_type": "stream",
     "text": [
      "1\n",
      "2\n",
      "3\n",
      "4\n",
      "perulangan berakhir\n",
      "done\n"
     ]
    }
   ],
   "source": [
    "for i in range(1,5):\n",
    "    print(i)\n",
    "else:\n",
    "    print(\"perulangan berakhir\")\n",
    "print(\"done\")"
   ]
  },
  {
   "cell_type": "code",
   "execution_count": 37,
   "id": "7702ad7a-713e-4943-92cb-3ba529518f2f",
   "metadata": {},
   "outputs": [
    {
     "name": "stdout",
     "output_type": "stream",
     "text": [
      "1\n",
      "4\n",
      "7\n"
     ]
    }
   ],
   "source": [
    "for i in range(1,10,3):\n",
    "    print(i)"
   ]
  },
  {
   "cell_type": "code",
   "execution_count": 38,
   "id": "6a482944-c63b-4661-a847-4d5a44852344",
   "metadata": {},
   "outputs": [
    {
     "name": "stdout",
     "output_type": "stream",
     "text": [
      "p\n",
      "i\n",
      "s\n",
      "a\n",
      "n\n",
      "g\n"
     ]
    }
   ],
   "source": [
    "for i in \"pisang\":\n",
    "    print (i)"
   ]
  },
  {
   "cell_type": "code",
   "execution_count": 39,
   "id": "305dff37-e039-4cb7-9bab-a35d2abd3907",
   "metadata": {},
   "outputs": [
    {
     "name": "stdout",
     "output_type": "stream",
     "text": [
      "2\n",
      "4\n",
      "6\n",
      "5\n"
     ]
    }
   ],
   "source": [
    "data_list=[2,4,6,5]\n",
    "for i in data_list:\n",
    "    print(i)"
   ]
  },
  {
   "cell_type": "code",
   "execution_count": 40,
   "id": "e5dbcbc9-9bd8-4a2c-8fee-718d50508341",
   "metadata": {},
   "outputs": [
    {
     "name": "stdout",
     "output_type": "stream",
     "text": [
      "[17, 13, 25]\n",
      "[17, 13, 25]\n",
      "[17, 13, 25]\n"
     ]
    }
   ],
   "source": [
    "data_list=[17,13,25]\n",
    "for i in range(len(data_list)):\n",
    "    print(data_list)"
   ]
  },
  {
   "cell_type": "code",
   "execution_count": 41,
   "id": "94985483-d5d2-4ff4-ba9f-35326cef20f7",
   "metadata": {},
   "outputs": [
    {
     "name": "stdout",
     "output_type": "stream",
     "text": [
      "anjing\n",
      "kucing\n",
      "kelinci\n",
      "berang-berang\n"
     ]
    }
   ],
   "source": [
    "hewan=[\"anjing\", \"kucing\", \"kelinci\", \"berang-berang\"]\n",
    "for i in hewan:\n",
    "    print(i)"
   ]
  },
  {
   "cell_type": "code",
   "execution_count": 42,
   "id": "e40d82f2-1b92-407a-87fa-66239b2429cc",
   "metadata": {},
   "outputs": [
    {
     "name": "stdout",
     "output_type": "stream",
     "text": [
      "2\n",
      "4\n",
      "6\n",
      "8\n",
      "10\n",
      "12\n",
      "14\n",
      "16\n",
      "18\n"
     ]
    }
   ],
   "source": [
    "for i in range(2,20,2):\n",
    "    print(i)"
   ]
  },
  {
   "cell_type": "code",
   "execution_count": 43,
   "id": "dc8a53af-fff0-4591-af80-cf3679744f43",
   "metadata": {},
   "outputs": [
    {
     "name": "stdout",
     "output_type": "stream",
     "text": [
      "55\n"
     ]
    }
   ],
   "source": [
    "jumlah=0\n",
    "for i in range(1,11):\n",
    "    jumlah=jumlah+i\n",
    "print(jumlah)"
   ]
  },
  {
   "cell_type": "markdown",
   "id": "036c92e7-e2a7-49f3-abeb-895bd80784d4",
   "metadata": {},
   "source": [
    "#### For didalam list"
   ]
  },
  {
   "cell_type": "code",
   "execution_count": 44,
   "id": "7e199a1e-0bf8-4894-b0d0-8e9657b72d28",
   "metadata": {},
   "outputs": [
    {
     "name": "stdin",
     "output_type": "stream",
     "text": [
      "masukkan jumlah data:  2\n",
      "masukkan data:  3.5\n",
      "masukkan data:  9.8\n"
     ]
    },
    {
     "name": "stdout",
     "output_type": "stream",
     "text": [
      "data anda adalah  [3.5, 9.8]\n"
     ]
    }
   ],
   "source": [
    "n=int(input(\"masukkan jumlah data: \"))\n",
    "list_data=[float(input(\"masukkan data: \")) for _ in range (n)]\n",
    "print(\"data anda adalah \", list_data)"
   ]
  },
  {
   "cell_type": "code",
   "execution_count": 45,
   "id": "df5dfbfe-78e5-406e-bb6b-2f6f9948e22a",
   "metadata": {},
   "outputs": [
    {
     "name": "stdin",
     "output_type": "stream",
     "text": [
      "masukkan jumlah data:  2\n",
      "masukkan data:  8\n",
      "masukkan data:  9\n"
     ]
    },
    {
     "name": "stdout",
     "output_type": "stream",
     "text": [
      "data anda adalah  [8, 9]\n"
     ]
    }
   ],
   "source": [
    "n=int(input(\"masukkan jumlah data: \"))\n",
    "list_data=[int(input(\"masukkan data: \")) for _ in range (n)]\n",
    "print(\"data anda adalah \", list_data)"
   ]
  },
  {
   "cell_type": "code",
   "execution_count": 46,
   "id": "b37f9177-ce02-4590-af2e-47e2a5766cc0",
   "metadata": {},
   "outputs": [
    {
     "name": "stdin",
     "output_type": "stream",
     "text": [
      "masukkan data:  2.1\n"
     ]
    },
    {
     "name": "stdout",
     "output_type": "stream",
     "text": [
      "data kamu adalah  [2.1]\n"
     ]
    },
    {
     "name": "stdin",
     "output_type": "stream",
     "text": [
      "masukkan data:  1.7\n"
     ]
    },
    {
     "name": "stdout",
     "output_type": "stream",
     "text": [
      "data kamu adalah  [2.1, 1.7]\n"
     ]
    },
    {
     "name": "stdin",
     "output_type": "stream",
     "text": [
      "masukkan data:  0.7\n"
     ]
    },
    {
     "name": "stdout",
     "output_type": "stream",
     "text": [
      "data kamu adalah  [2.1, 1.7, 0.7]\n"
     ]
    }
   ],
   "source": [
    "list_data=[ ]\n",
    "for i in range(3):\n",
    "    list_data.append(float(input(\"masukkan data: \")))\n",
    "    print(\"data kamu adalah \", list_data)"
   ]
  },
  {
   "cell_type": "markdown",
   "id": "6a8f0060-7f88-4907-9838-dd3ce822edcc",
   "metadata": {},
   "source": [
    "#### Nested loop"
   ]
  },
  {
   "cell_type": "code",
   "execution_count": 47,
   "id": "13990a3f-4936-49e0-b0f0-130e2f28577c",
   "metadata": {},
   "outputs": [
    {
     "name": "stdout",
     "output_type": "stream",
     "text": [
      "1 * 1 = 1\n",
      "1 * 2 = 2\n",
      "1 * 3 = 3\n",
      "1 * 4 = 4\n",
      "1 * 5 = 5\n",
      "1 * 6 = 6\n",
      "1 * 7 = 7\n",
      "1 * 8 = 8\n",
      "1 * 9 = 9\n",
      "1 * 10 = 10\n",
      "\n",
      "2 * 1 = 2\n",
      "2 * 2 = 4\n",
      "2 * 3 = 6\n",
      "2 * 4 = 8\n",
      "2 * 5 = 10\n",
      "2 * 6 = 12\n",
      "2 * 7 = 14\n",
      "2 * 8 = 16\n",
      "2 * 9 = 18\n",
      "2 * 10 = 20\n",
      "\n",
      "tengkyu\n"
     ]
    }
   ],
   "source": [
    "for i in range(1,3):\n",
    "    for j in range (1,11):\n",
    "        print(i,\"*\",j,\"=\",i*j)\n",
    "    print()\n",
    "print(\"tengkyu\")"
   ]
  },
  {
   "cell_type": "code",
   "execution_count": 48,
   "id": "7f3035b4-d50a-4cf5-9abc-d6fa0a54272c",
   "metadata": {},
   "outputs": [
    {
     "name": "stdin",
     "output_type": "stream",
     "text": [
      "masukkan jumlah baris:  8\n"
     ]
    },
    {
     "name": "stdout",
     "output_type": "stream",
     "text": [
      "*  \n",
      "* *  \n",
      "* * *  \n",
      "* * * *  \n",
      "* * * * *  \n",
      "* * * * * *  \n",
      "* * * * * * *  \n",
      "* * * * * * * *  \n"
     ]
    }
   ],
   "source": [
    "n=int(input(\"masukkan jumlah baris: \"))\n",
    "for i in range(n):\n",
    "    for j in range(i+1):\n",
    "        print(\"*\",end=\" \")\n",
    "    print(' ')"
   ]
  },
  {
   "cell_type": "code",
   "execution_count": 49,
   "id": "41a7f3f7-b5b0-4442-8349-24fddf2f1b32",
   "metadata": {},
   "outputs": [
    {
     "name": "stdin",
     "output_type": "stream",
     "text": [
      "masukkan jumlah baris:  8\n"
     ]
    },
    {
     "name": "stdout",
     "output_type": "stream",
     "text": [
      "1  \n",
      "1 2  \n",
      "1 2 3  \n",
      "1 2 3 4  \n",
      "1 2 3 4 5  \n",
      "1 2 3 4 5 6  \n",
      "1 2 3 4 5 6 7  \n",
      "1 2 3 4 5 6 7 8  \n"
     ]
    }
   ],
   "source": [
    "n=int(input(\"masukkan jumlah baris: \"))\n",
    "for i in range(8):\n",
    "    for j in range(i+1):\n",
    "        print(j+1,end=\" \")\n",
    "    print(' ')"
   ]
  },
  {
   "cell_type": "markdown",
   "id": "d45a084e-f624-4910-8165-86b1b4f86bc9",
   "metadata": {},
   "source": [
    "#### While"
   ]
  },
  {
   "cell_type": "code",
   "execution_count": 50,
   "id": "917c52e4-f6e6-4b83-bfa1-c0f440361b0b",
   "metadata": {},
   "outputs": [
    {
     "name": "stdout",
     "output_type": "stream",
     "text": [
      "1\n",
      "2\n",
      "3\n",
      "4\n",
      "5\n"
     ]
    }
   ],
   "source": [
    "i=1\n",
    "while i<6:\n",
    "    print(i)\n",
    "    i+= 1"
   ]
  },
  {
   "cell_type": "code",
   "execution_count": 51,
   "id": "d57e37e6-2830-4a5a-b2d1-7d5b216b7f6c",
   "metadata": {},
   "outputs": [
    {
     "name": "stdin",
     "output_type": "stream",
     "text": [
      "ulangi lagi tidak? ya\n",
      "ulangi lagi tidak? ya\n",
      "ulangi lagi tidak? ya\n",
      "ulangi lagi tidak? ya\n",
      "ulangi lagi tidak? ya\n",
      "ulangi lagi tidak? ya\n",
      "ulangi lagi tidak? Ya\n"
     ]
    },
    {
     "name": "stdout",
     "output_type": "stream",
     "text": [
      "total perulangan:  7\n"
     ]
    }
   ],
   "source": [
    "jawab='ya'\n",
    "hitung=0\n",
    "while (jawab=='ya'):\n",
    "    hitung=hitung+1\n",
    "    jawab=input('ulangi lagi tidak?')\n",
    "print(\"total perulangan: \" ,hitung)"
   ]
  },
  {
   "cell_type": "code",
   "execution_count": 52,
   "id": "6563d7a7-67df-46cf-92b6-404bbb800edf",
   "metadata": {},
   "outputs": [
    {
     "name": "stdin",
     "output_type": "stream",
     "text": [
      "ulangilagi tidak? ya\n"
     ]
    },
    {
     "name": "stdout",
     "output_type": "stream",
     "text": [
      "total perulangan:  1\n"
     ]
    },
    {
     "name": "stdin",
     "output_type": "stream",
     "text": [
      "ulangilagi tidak? Ya\n"
     ]
    },
    {
     "name": "stdout",
     "output_type": "stream",
     "text": [
      "total perulangan:  2\n"
     ]
    },
    {
     "name": "stdin",
     "output_type": "stream",
     "text": [
      "ulangilagi tidak? yA\n"
     ]
    },
    {
     "name": "stdout",
     "output_type": "stream",
     "text": [
      "total perulangan:  3\n"
     ]
    },
    {
     "name": "stdin",
     "output_type": "stream",
     "text": [
      "ulangilagi tidak? ya\n"
     ]
    },
    {
     "name": "stdout",
     "output_type": "stream",
     "text": [
      "total perulangan:  4\n"
     ]
    },
    {
     "name": "stdin",
     "output_type": "stream",
     "text": [
      "ulangilagi tidak? benar\n"
     ]
    },
    {
     "name": "stdout",
     "output_type": "stream",
     "text": [
      "total perulangan:  5\n"
     ]
    },
    {
     "name": "stdin",
     "output_type": "stream",
     "text": [
      "ulangilagi tidak? betu\n"
     ]
    },
    {
     "name": "stdout",
     "output_type": "stream",
     "text": [
      "total perulangan:  6\n"
     ]
    },
    {
     "name": "stdin",
     "output_type": "stream",
     "text": [
      "ulangilagi tidak? betul\n"
     ]
    },
    {
     "name": "stdout",
     "output_type": "stream",
     "text": [
      "total perulangan:  7\n"
     ]
    },
    {
     "name": "stdin",
     "output_type": "stream",
     "text": [
      "ulangilagi tidak? salah\n"
     ]
    },
    {
     "name": "stdout",
     "output_type": "stream",
     "text": [
      "total perulangan:  8\n"
     ]
    },
    {
     "name": "stdin",
     "output_type": "stream",
     "text": [
      "ulangilagi tidak? tidak\n"
     ]
    }
   ],
   "source": [
    "jawab='ya'\n",
    "hitung=0\n",
    "while (True):\n",
    "    hitung=hitung+1\n",
    "    jawab=input('ulangilagi tidak?')\n",
    "    if jawab=='tidak' :\n",
    "        break\n",
    "    print(\"total perulangan: \",hitung)"
   ]
  },
  {
   "cell_type": "code",
   "execution_count": 53,
   "id": "e34bbec4-6302-4f22-b6dd-573e48ca41f9",
   "metadata": {},
   "outputs": [
    {
     "name": "stdout",
     "output_type": "stream",
     "text": [
      "0\n",
      "1\n",
      "2\n",
      "3\n",
      "4\n"
     ]
    }
   ],
   "source": [
    "i=0\n",
    "while True:\n",
    "    print(i)\n",
    "    i=i+1\n",
    "    if i==5:\n",
    "        break"
   ]
  },
  {
   "cell_type": "code",
   "execution_count": 54,
   "id": "25cad792-ee31-4fe2-b021-7364ea6a053f",
   "metadata": {},
   "outputs": [
    {
     "name": "stdin",
     "output_type": "stream",
     "text": [
      "masukkan banyaknya bilangan:  10\n"
     ]
    },
    {
     "name": "stdout",
     "output_type": "stream",
     "text": [
      "0\n",
      "1\n",
      "1\n",
      "2\n",
      "3\n",
      "5\n",
      "8\n",
      "13\n",
      "21\n",
      "34\n"
     ]
    }
   ],
   "source": [
    "banyak_bilangan=int(input('masukkan banyaknya bilangan: '))\n",
    "count=0\n",
    "b1=0\n",
    "b2=1\n",
    "\n",
    "while count<banyak_bilangan:\n",
    "    print(b1)\n",
    "    sum=b1+b2\n",
    "    b1=b2\n",
    "    b2=sum\n",
    "    count+=1"
   ]
  },
  {
   "cell_type": "code",
   "execution_count": 55,
   "id": "f3c04873-9cab-4867-bbfc-ca44f7cc87a1",
   "metadata": {},
   "outputs": [
    {
     "name": "stdin",
     "output_type": "stream",
     "text": [
      "masukkan jumlah data:  5\n",
      "masukkan data ke-1:  21\n",
      "masukkan data ke-2:  17\n",
      "masukkan data ke-3:  07\n",
      "masukkan data ke-4:  06\n",
      "masukkan data ke-5:  96\n"
     ]
    },
    {
     "name": "stdout",
     "output_type": "stream",
     "text": [
      "total penjumlahan: 147.0\n",
      "rata-rata: 29.4\n"
     ]
    }
   ],
   "source": [
    "n=int(input(\"masukkan jumlah data: \"))\n",
    "total=0\n",
    "for i in range(n):\n",
    "    data=float(input(f\"masukkan data ke-{i+1}: \"))\n",
    "    total += data\n",
    "rata_rata=total/n\n",
    "print(f\"total penjumlahan: {total}\")\n",
    "print(f\"rata-rata: {rata_rata}\")"
   ]
  },
  {
   "cell_type": "code",
   "execution_count": 56,
   "id": "785f03fd-b2e9-4502-8f3d-d6da867c1a49",
   "metadata": {},
   "outputs": [
    {
     "name": "stdin",
     "output_type": "stream",
     "text": [
      "masukkan banyak data 4\n",
      "masukkan data:  21\n"
     ]
    },
    {
     "name": "stdout",
     "output_type": "stream",
     "text": [
      "0\n"
     ]
    },
    {
     "name": "stdin",
     "output_type": "stream",
     "text": [
      "masukkan data:  07\n"
     ]
    },
    {
     "name": "stdout",
     "output_type": "stream",
     "text": [
      "1\n"
     ]
    },
    {
     "name": "stdin",
     "output_type": "stream",
     "text": [
      "masukkan data:  17\n"
     ]
    },
    {
     "name": "stdout",
     "output_type": "stream",
     "text": [
      "2\n"
     ]
    },
    {
     "name": "stdin",
     "output_type": "stream",
     "text": [
      "masukkan data:  07\n"
     ]
    },
    {
     "name": "stdout",
     "output_type": "stream",
     "text": [
      "3\n",
      "13.0\n"
     ]
    }
   ],
   "source": [
    "list_data=[]\n",
    "n=int(input(\"masukkan banyak data\"))\n",
    "for i in range(n):\n",
    "    list_data.append(float(input(\"masukkan data: \")))\n",
    "    print(i)\n",
    "\n",
    "total=0\n",
    "for number in list_data:\n",
    "    total += number\n",
    "\n",
    "avr=total/n\n",
    "print(avr)"
   ]
  },
  {
   "cell_type": "code",
   "execution_count": null,
   "id": "755bd925-e84e-4ce7-8d81-b6293a91e5e8",
   "metadata": {},
   "outputs": [],
   "source": []
  }
 ],
 "metadata": {
  "kernelspec": {
   "display_name": "Python 3 (ipykernel)",
   "language": "python",
   "name": "python3"
  },
  "language_info": {
   "codemirror_mode": {
    "name": "ipython",
    "version": 3
   },
   "file_extension": ".py",
   "mimetype": "text/x-python",
   "name": "python",
   "nbconvert_exporter": "python",
   "pygments_lexer": "ipython3",
   "version": "3.12.7"
  }
 },
 "nbformat": 4,
 "nbformat_minor": 5
}
