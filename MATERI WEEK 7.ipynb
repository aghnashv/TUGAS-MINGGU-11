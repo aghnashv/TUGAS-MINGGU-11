{
 "cells": [
  {
   "cell_type": "markdown",
   "id": "5c73a77f-0942-4053-9f9e-d3b476d7d588",
   "metadata": {},
   "source": [
    "### Percabangan"
   ]
  },
  {
   "cell_type": "code",
   "execution_count": 1,
   "id": "28c22499-a588-48be-a99c-93cd7e8af965",
   "metadata": {},
   "outputs": [
    {
     "name": "stdin",
     "output_type": "stream",
     "text": [
      "masukkan nilai anda:  80\n"
     ]
    },
    {
     "name": "stdout",
     "output_type": "stream",
     "text": [
      "lulus\n",
      "chukhae\n"
     ]
    }
   ],
   "source": [
    "nilai=int(input(\"masukkan nilai anda: \"))\n",
    "if nilai >= 60:\n",
    "    print(\"lulus\")\n",
    "print(\"chukhae\")"
   ]
  },
  {
   "cell_type": "code",
   "execution_count": 3,
   "id": "11aade7b-e59a-4b77-9104-c502cd080f4c",
   "metadata": {},
   "outputs": [
    {
     "name": "stdin",
     "output_type": "stream",
     "text": [
      "masukkan nilai anda:  40\n"
     ]
    },
    {
     "name": "stdout",
     "output_type": "stream",
     "text": [
      "tidak lulus\n",
      "maaf\n"
     ]
    }
   ],
   "source": [
    "nilai=int(input(\"masukkan nilai anda: \"))\n",
    "if nilai >= 60:\n",
    "    print(\"lulus\")\n",
    "    print(\"chukhae\")\n",
    "elif nilai < 60:\n",
    "    print(\"tidak lulus\")\n",
    "    print(\"maaf\")"
   ]
  },
  {
   "cell_type": "code",
   "execution_count": 4,
   "id": "2b2c2bd4-8059-4e3a-b70d-fdd8fb886667",
   "metadata": {},
   "outputs": [
    {
     "name": "stdin",
     "output_type": "stream",
     "text": [
      "masukkan nilai anda:  70\n"
     ]
    },
    {
     "name": "stdout",
     "output_type": "stream",
     "text": [
      "lulus\n",
      "chukhae\n"
     ]
    }
   ],
   "source": [
    "nilai=int(input(\"masukkan nilai anda: \"))\n",
    "if nilai >= 60:\n",
    "    print(\"lulus\")\n",
    "    print(\"chukhae\")\n",
    "elif nilai < 60:\n",
    "    print(\"tidak lulus\")\n",
    "    print(\"maaf\")"
   ]
  },
  {
   "cell_type": "code",
   "execution_count": 6,
   "id": "0130cc9f-8b00-46ea-b829-94c15433086a",
   "metadata": {},
   "outputs": [
    {
     "name": "stdin",
     "output_type": "stream",
     "text": [
      "masukkan angka anda: 63\n"
     ]
    },
    {
     "name": "stdout",
     "output_type": "stream",
     "text": [
      "itu bilangan ganjil\n",
      "terima kasih\n"
     ]
    }
   ],
   "source": [
    "bilangan=int(input(\"masukkan angka anda:\"))\n",
    "if bilangan / 2 == 0:\n",
    "    print(\"itu bilangan genap\")\n",
    "elif bilangan % 2 == 1:\n",
    "    print(\"itu bilangan ganjil\")\n",
    "elif bilangan / 5 == 0 :\n",
    "    print(\"itu bilangan kelipatan 5\")\n",
    "print(\"terima kasih\")"
   ]
  },
  {
   "cell_type": "code",
   "execution_count": 8,
   "id": "52ed59fc-265e-4344-8107-cbfb1046bac4",
   "metadata": {},
   "outputs": [
    {
     "name": "stdin",
     "output_type": "stream",
     "text": [
      "nilai anda:  55\n"
     ]
    },
    {
     "name": "stdout",
     "output_type": "stream",
     "text": [
      "bilangan ganjil\n"
     ]
    }
   ],
   "source": [
    "bilangan=int(input(\"nilai anda: \"))\n",
    "if bilangan / 2 == 0:\n",
    "    print (\"bilangan genap\")\n",
    "else:\n",
    "    print (\"bilangan ganjil\")"
   ]
  },
  {
   "cell_type": "code",
   "execution_count": 10,
   "id": "085bf464-ab22-409a-af82-3ccb90c32ac3",
   "metadata": {},
   "outputs": [
    {
     "name": "stdin",
     "output_type": "stream",
     "text": [
      "bilangan A 20\n",
      "bilangan B 15\n"
     ]
    },
    {
     "name": "stdout",
     "output_type": "stream",
     "text": [
      "bilangan A lebih besar daripada bilangan B\n"
     ]
    }
   ],
   "source": [
    "bil_A = input(\"bilangan A\")\n",
    "bil_B = input(\"bilangan B\")\n",
    "if bil_A > bil_B :\n",
    "    print (\"bilangan A lebih besar daripada bilangan B\")\n",
    "else:\n",
    "    print (\"bilangan B lebih besar daripada bilangan A\")"
   ]
  },
  {
   "cell_type": "code",
   "execution_count": 12,
   "id": "aef79911-4ac4-4daf-9472-dc798db3530c",
   "metadata": {},
   "outputs": [
    {
     "name": "stdin",
     "output_type": "stream",
     "text": [
      "bilangan A 10\n",
      "bilangan B 66\n"
     ]
    },
    {
     "name": "stdout",
     "output_type": "stream",
     "text": [
      "bilangan B lebih besar daripada bilangan A\n"
     ]
    }
   ],
   "source": [
    "bil_A = input(\"bilangan A\")\n",
    "bil_B = input(\"bilangan B\")\n",
    "if bil_A > bil_B :\n",
    "    print (\"bilangan A lebih besar daripada bilangan B\")\n",
    "else:\n",
    "    print (\"bilangan B lebih besar daripada bilangan A\")"
   ]
  },
  {
   "cell_type": "code",
   "execution_count": 13,
   "id": "3cabb2b3-25d1-44f1-b2a9-a4cbcf61e8cd",
   "metadata": {},
   "outputs": [
    {
     "name": "stdin",
     "output_type": "stream",
     "text": [
      "masukkan nilai anda:  81\n"
     ]
    },
    {
     "name": "stdout",
     "output_type": "stream",
     "text": [
      "grade = B+\n"
     ]
    }
   ],
   "source": [
    "nilai=int(input(\"masukkan nilai anda: \"))\n",
    "if nilai >= 90 :\n",
    "    print(\"grade = A\")\n",
    "elif nilai >= 80:\n",
    "    print(\"grade = B+\")\n",
    "elif nilai >= 70:\n",
    "    print(\"grade = B\")\n",
    "elif nilai >= 60:\n",
    "    print(\"grade = C+\")\n",
    "elif nilai >= 50:\n",
    "    print(\"grade = C\")\n",
    "elif nilai >= 40:\n",
    "    print(\"grade = D\")"
   ]
  },
  {
   "cell_type": "code",
   "execution_count": 14,
   "id": "e3752067-ea77-4cca-8d14-ba452d06e5e2",
   "metadata": {},
   "outputs": [
    {
     "name": "stdin",
     "output_type": "stream",
     "text": [
      "masukkan usia anda  18\n",
      "masukkan tinggi anda  150\n",
      "apakah anda termasuk member? iya\n",
      "pengeluaran 1000000\n"
     ]
    },
    {
     "name": "stdout",
     "output_type": "stream",
     "text": [
      "diperbolehkan naik wahana, anjay\n"
     ]
    }
   ],
   "source": [
    "usia = int(input(\"masukkan usia anda \"))\n",
    "tinggi = float(input(\"masukkan tinggi anda \"))\n",
    "member = bool(input(\"apakah anda termasuk member?\"))\n",
    "jumlah_pembelian = int(input(\"pengeluaran\"))\n",
    "if usia>=10 and tinggi >= 110:\n",
    "    print(\"diperbolehkan naik wahana, anjay\")\n",
    "elif member == true or pembelian > 500000:\n",
    "    print(\"anda mendapatkan diskon\")"
   ]
  },
  {
   "cell_type": "markdown",
   "id": "38f71ba0-31c4-46e7-af45-9e4fb7cf4742",
   "metadata": {},
   "source": [
    "### If Nested (if dalam if)"
   ]
  },
  {
   "cell_type": "code",
   "execution_count": 16,
   "id": "c6537ed1-16a5-4956-8ed3-5ff2bf3fcb5d",
   "metadata": {},
   "outputs": [
    {
     "name": "stdin",
     "output_type": "stream",
     "text": [
      "berapa umurmu? 8\n",
      "berapa tinggimu? 100\n"
     ]
    },
    {
     "name": "stdout",
     "output_type": "stream",
     "text": [
      "sayang sekali anda tidak bisa menaiki wahana ini\n"
     ]
    }
   ],
   "source": [
    "usia=int(input(\"berapa umurmu?\"))\n",
    "tinggi=int(input(\"berapa tinggimu?\"))\n",
    "\n",
    "if usia >= 10 and tinggi >= 110:\n",
    "    member=bool(input(\"apakah anda member?\"))\n",
    "    pembelian=int(input(\"total pembelian: \"))\n",
    "    if member == True or pembelian > 500000:\n",
    "        print(\"selamat anda bisa menaiki wahana ini dan mendapatkan diskon\")\n",
    "else:\n",
    "    print(\"sayang sekali anda tidak bisa menaiki wahana ini\")"
   ]
  },
  {
   "cell_type": "code",
   "execution_count": 18,
   "id": "8b173b28-eb46-47c1-a0e6-7deb01bdb1c0",
   "metadata": {},
   "outputs": [
    {
     "name": "stdin",
     "output_type": "stream",
     "text": [
      "berapa umurmu? 16\n",
      "berapa tinggimu? 180\n",
      "apakah anda member? True\n",
      "total pembelian:  560000\n"
     ]
    },
    {
     "name": "stdout",
     "output_type": "stream",
     "text": [
      "selamat anda bisa menaiki wahana ini dan mendapatkan diskon\n"
     ]
    }
   ],
   "source": [
    "usia=int(input(\"berapa umurmu?\"))\n",
    "tinggi=int(input(\"berapa tinggimu?\"))\n",
    "\n",
    "if usia >= 10 and tinggi >= 110:\n",
    "    member=bool(input(\"apakah anda member?\"))\n",
    "    pembelian=int(input(\"total pembelian: \"))\n",
    "    if member == True or pembelian > 500000:\n",
    "        print(\"selamat anda bisa menaiki wahana ini dan mendapatkan diskon\")\n",
    "else:\n",
    "    print(\"sayang sekali anda tidak bisa menaiki wahana ini\")"
   ]
  },
  {
   "cell_type": "markdown",
   "id": "e82464dd-6350-4287-b569-bd33004ad679",
   "metadata": {},
   "source": [
    "nilai=int(input(\"nilai anda \"))\n",
    "kehadiran=int(input(\"masukkan presentase kehadiran anda\"))\n",
    "if nilai > 80:\n",
    "    if kehadiran > 90 :\n",
    "        print(\"sangat memuaskan\")\n",
    "    elif kehadiran >= 75 and 90 :\n",
    "        print(\"memuaskan\")\n",
    "    else: \n",
    "        print(\"cukup memuaskan\")\n",
    "\n",
    "elif nilai >= 60 and nilai >= 80:\n",
    "    if kehadiran > 75 :\n",
    "        print(\"cukup\")\n",
    "    elif kehadiran < 75 and kehadiran == 75:\n",
    "        print(\"perlu perbaikan\")\n",
    "\n",
    "elif nilai < 60:\n",
    "    print(\"tidak lulus\")"
   ]
  },
  {
   "cell_type": "markdown",
   "id": "98de3bcb-62e8-434e-9b49-fadb0a10d4cb",
   "metadata": {},
   "source": [
    "### Kondisi dan Perulangan"
   ]
  },
  {
   "cell_type": "code",
   "execution_count": 20,
   "id": "1a2a4cdc-4e47-4700-8821-d5b6b3f02771",
   "metadata": {},
   "outputs": [
    {
     "name": "stdout",
     "output_type": "stream",
     "text": [
      "0\n",
      "1\n",
      "2\n",
      "3\n",
      "4\n",
      "5\n",
      "6\n",
      "7\n",
      "8\n",
      "9\n",
      "10\n"
     ]
    }
   ],
   "source": [
    "for i in range(1000):\n",
    "    print(i)\n",
    "    if i==10:\n",
    "        break"
   ]
  },
  {
   "cell_type": "code",
   "execution_count": 21,
   "id": "ebe14c1b-747b-4e32-a933-300ef8785a80",
   "metadata": {},
   "outputs": [
    {
     "name": "stdout",
     "output_type": "stream",
     "text": [
      "0\n",
      "1\n",
      "2\n",
      "3\n",
      "4\n",
      "6\n",
      "7\n",
      "8\n",
      "9\n"
     ]
    }
   ],
   "source": [
    "for i in range(10):\n",
    "    if i==5:\n",
    "        continue\n",
    "    print(i)"
   ]
  },
  {
   "cell_type": "code",
   "execution_count": 22,
   "id": "89dad8cf-9a8a-4188-8400-96bb64d8b526",
   "metadata": {},
   "outputs": [
    {
     "name": "stdin",
     "output_type": "stream",
     "text": [
      "masukkan jumlah baris 6\n"
     ]
    },
    {
     "name": "stdout",
     "output_type": "stream",
     "text": [
      "1  \n",
      "2 2   \n",
      "3 3 3    \n",
      "4 4 4 4     \n",
      "5 5 5 5 5      \n",
      "6 6 6 6 6 6       \n"
     ]
    }
   ],
   "source": [
    "n=int(input(\"masukkan jumlah baris\"))\n",
    "\n",
    "for i in range(1, n+1):\n",
    "    for j in range(1, i+1):\n",
    "        print(i,end=\" \")\n",
    "    for j in range(0, i):\n",
    "        print(\"\", end=\" \")\n",
    "    print()"
   ]
  },
  {
   "cell_type": "code",
   "execution_count": 23,
   "id": "c08b96f2-fe5e-4726-b91c-39d4573bd09b",
   "metadata": {},
   "outputs": [
    {
     "name": "stdin",
     "output_type": "stream",
     "text": [
      "masukkan jumlah baris 5\n"
     ]
    },
    {
     "name": "stdout",
     "output_type": "stream",
     "text": [
      "1 2 3 4 \n",
      "5 6 7 8  \n",
      "9 10 11 12   \n",
      "13 14 15 16    \n",
      "17 18 19 20     \n"
     ]
    }
   ],
   "source": [
    "n=int(input(\"masukkan jumlah baris\"))\n",
    "angka=1\n",
    "\n",
    "for i in range(5):\n",
    "    for j in range(4):\n",
    "        print(angka,end=\" \")\n",
    "        angka=angka+1\n",
    "    for j in range(0, i):\n",
    "        print(\"\", end=\" \")\n",
    "    print()"
   ]
  },
  {
   "cell_type": "code",
   "execution_count": null,
   "id": "bfdaed73-ce1f-4041-b296-2f14d2b065da",
   "metadata": {},
   "outputs": [],
   "source": []
  }
 ],
 "metadata": {
  "kernelspec": {
   "display_name": "Python 3 (ipykernel)",
   "language": "python",
   "name": "python3"
  },
  "language_info": {
   "codemirror_mode": {
    "name": "ipython",
    "version": 3
   },
   "file_extension": ".py",
   "mimetype": "text/x-python",
   "name": "python",
   "nbconvert_exporter": "python",
   "pygments_lexer": "ipython3",
   "version": "3.12.7"
  }
 },
 "nbformat": 4,
 "nbformat_minor": 5
}
