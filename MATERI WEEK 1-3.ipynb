{
 "cells": [
  {
   "cell_type": "markdown",
   "id": "27dc4934-3928-45da-b15f-a2c7fa2226a8",
   "metadata": {},
   "source": [
    "### Minggu 1 & 2 - Tipe Data & Operator Python"
   ]
  },
  {
   "cell_type": "code",
   "execution_count": 1,
   "id": "0e1a5b5e-0959-46c5-ba74-855dcebcadc2",
   "metadata": {},
   "outputs": [
    {
     "name": "stdout",
     "output_type": "stream",
     "text": [
      "Hello World\n"
     ]
    }
   ],
   "source": [
    "print (\"Hello World\")"
   ]
  },
  {
   "cell_type": "code",
   "execution_count": 2,
   "id": "28fe1452-7d6e-46db-b70b-f8b862b25fc3",
   "metadata": {},
   "outputs": [
    {
     "name": "stdout",
     "output_type": "stream",
     "text": [
      "nama saya adalah Aghna dan usia saya adalah 18\n"
     ]
    }
   ],
   "source": [
    "nama = \"Aghna\"\n",
    "usia = 18\n",
    "print (\"nama saya adalah\", nama, \"dan usia saya adalah\", usia)"
   ]
  },
  {
   "cell_type": "code",
   "execution_count": 3,
   "id": "a90ab230-bf9f-4586-94f9-521d3b735d9a",
   "metadata": {},
   "outputs": [
    {
     "name": "stdout",
     "output_type": "stream",
     "text": [
      "<class 'str'>\n",
      "<class 'int'>\n",
      "<class 'float'>\n",
      "<class 'bool'>\n"
     ]
    }
   ],
   "source": [
    "nama = \"Aghna\"\n",
    "usia = 18\n",
    "tinggi = 1.50\n",
    "benar = True\n",
    "print  (type(nama))\n",
    "print (type(usia))\n",
    "print (type (tinggi))\n",
    "print (type (benar))"
   ]
  },
  {
   "cell_type": "code",
   "execution_count": 4,
   "id": "5b02279e-3ad6-47a7-97e0-9930ef103a80",
   "metadata": {},
   "outputs": [
    {
     "name": "stdout",
     "output_type": "stream",
     "text": [
      "nama saya adalah Aghna dan usia saya adalah 18\n"
     ]
    }
   ],
   "source": [
    "nama = \"Aghna\" #ini adalah nama saya\n",
    "usia = 18 #dan ini usia saya\n",
    "print (\"nama saya adalah\", nama, \"dan usia saya adalah\", usia)"
   ]
  },
  {
   "cell_type": "code",
   "execution_count": 14,
   "id": "80ccae22-b54f-4cc9-8e1a-004eb866b4a1",
   "metadata": {},
   "outputs": [
    {
     "data": {
      "text/plain": [
       "10"
      ]
     },
     "execution_count": 14,
     "metadata": {},
     "output_type": "execute_result"
    }
   ],
   "source": [
    "#operator penjumlahan (+)\n",
    "a=6\n",
    "b=4\n",
    "a+b"
   ]
  },
  {
   "cell_type": "code",
   "execution_count": 13,
   "id": "8db10392-412d-4c84-adeb-138da992ac6d",
   "metadata": {},
   "outputs": [
    {
     "data": {
      "text/plain": [
       "-10"
      ]
     },
     "execution_count": 13,
     "metadata": {},
     "output_type": "execute_result"
    }
   ],
   "source": [
    "#operator pengurangan (-)\n",
    "a=10\n",
    "b=20\n",
    "a-b"
   ]
  },
  {
   "cell_type": "code",
   "execution_count": 12,
   "id": "c8449a48-1cde-43d7-ac36-b324a4826c2b",
   "metadata": {},
   "outputs": [
    {
     "data": {
      "text/plain": [
       "200"
      ]
     },
     "execution_count": 12,
     "metadata": {},
     "output_type": "execute_result"
    }
   ],
   "source": [
    "#operator perkalian (*)\n",
    "a=10\n",
    "b=20\n",
    "a*b"
   ]
  },
  {
   "cell_type": "code",
   "execution_count": 11,
   "id": "049912c7-4b12-4079-9b9e-f35198274570",
   "metadata": {},
   "outputs": [
    {
     "data": {
      "text/plain": [
       "50.0"
      ]
     },
     "execution_count": 11,
     "metadata": {},
     "output_type": "execute_result"
    }
   ],
   "source": [
    "#operator pembagian (/)\n",
    "a=100\n",
    "b=2\n",
    "a/b"
   ]
  },
  {
   "cell_type": "code",
   "execution_count": 10,
   "id": "d2ae8137-1dd9-43c1-b4ff-bd4b2aa4a46e",
   "metadata": {},
   "outputs": [
    {
     "data": {
      "text/plain": [
       "100"
      ]
     },
     "execution_count": 10,
     "metadata": {},
     "output_type": "execute_result"
    }
   ],
   "source": [
    "#operator perpangkatan (**)\n",
    "a=10\n",
    "a**2"
   ]
  },
  {
   "cell_type": "code",
   "execution_count": 15,
   "id": "1f1da9ae-d2a1-4ea3-acaa-00b0f09f9f2b",
   "metadata": {},
   "outputs": [
    {
     "data": {
      "text/plain": [
       "1"
      ]
     },
     "execution_count": 15,
     "metadata": {},
     "output_type": "execute_result"
    }
   ],
   "source": [
    "#operator sisa bagi (%)\n",
    "a=100\n",
    "b=3\n",
    "a%b"
   ]
  },
  {
   "cell_type": "code",
   "execution_count": 16,
   "id": "7a4b0ee0-555e-48e9-b688-8f50df564f28",
   "metadata": {},
   "outputs": [
    {
     "data": {
      "text/plain": [
       "1"
      ]
     },
     "execution_count": 16,
     "metadata": {},
     "output_type": "execute_result"
    }
   ],
   "source": [
    "#operator pembagian bulat (//)\n",
    "a=6\n",
    "b=4\n",
    "a//b"
   ]
  },
  {
   "cell_type": "code",
   "execution_count": 17,
   "id": "9867e938-ca05-43a4-89ea-7226a013e6b9",
   "metadata": {},
   "outputs": [
    {
     "name": "stdout",
     "output_type": "stream",
     "text": [
      "luas persegi adalah 50\n"
     ]
    }
   ],
   "source": [
    "#contoh soal\n",
    "#hitung luas persegi dengan p=10 dan l=5\n",
    "p=10\n",
    "l=5\n",
    "print(\"luas persegi adalah\", p*l)"
   ]
  },
  {
   "cell_type": "markdown",
   "id": "28efbe03-1baf-459d-b19c-daa6dab15cdd",
   "metadata": {},
   "source": [
    "### Minggu 3 - Ekspresi Persamaan Matematika"
   ]
  },
  {
   "cell_type": "code",
   "execution_count": 18,
   "id": "97b02428-f519-425e-a185-97733faef16c",
   "metadata": {},
   "outputs": [],
   "source": [
    "#untuk mengekspresikan persamaan matematika digunakan import math terlebih dahulu"
   ]
  },
  {
   "cell_type": "code",
   "execution_count": 19,
   "id": "cb43b5b2-1dc7-42ba-aa7e-4147d3984305",
   "metadata": {},
   "outputs": [
    {
     "data": {
      "text/plain": [
       "9.0"
      ]
     },
     "execution_count": 19,
     "metadata": {},
     "output_type": "execute_result"
    }
   ],
   "source": [
    "import math\n",
    "math.sqrt(81)"
   ]
  },
  {
   "cell_type": "code",
   "execution_count": 20,
   "id": "03e835e9-7ca4-4f8c-923a-12d98a4f408f",
   "metadata": {},
   "outputs": [
    {
     "name": "stdin",
     "output_type": "stream",
     "text": [
      "masukkan nilai a:  1\n",
      "masukkan nilai b:  -1\n",
      "masukkan nilai c:  -2\n"
     ]
    },
    {
     "name": "stdout",
     "output_type": "stream",
     "text": [
      "akar-akar dari persamaan adalah x1=2.0 dan x2=-1.0\n"
     ]
    }
   ],
   "source": [
    "#menentukan akar akar dari persamaan\n",
    "a=int(input(\"masukkan nilai a: \"))\n",
    "b=int(input(\"masukkan nilai b: \"))\n",
    "c=int(input(\"masukkan nilai c: \"))\n",
    "x1= (-b + math.sqrt(b**2-4*a*c))/(2*a)\n",
    "x2= (-b - math.sqrt(b**2-4*a*c))/(2*a)\n",
    "\n",
    "print(f\"akar-akar dari persamaan adalah x1={x1} dan x2={x2}\")"
   ]
  },
  {
   "cell_type": "code",
   "execution_count": 23,
   "id": "17a6e43c-1968-481e-9848-76500f50faf8",
   "metadata": {},
   "outputs": [
    {
     "name": "stdin",
     "output_type": "stream",
     "text": [
      "masukkan nilai a:  1\n",
      "masukkan nilai b:  2\n",
      "masukkan nilai c:  3\n"
     ]
    },
    {
     "name": "stdout",
     "output_type": "stream",
     "text": [
      "rata rata dari 3 bilangan bulat tersebut adalah x=2.0\n"
     ]
    }
   ],
   "source": [
    "#mengitung rata-rata\n",
    "a=int(input(\"masukkan nilai a: \"))\n",
    "b=int(input(\"masukkan nilai b: \"))\n",
    "c=int(input(\"masukkan nilai c: \"))\n",
    "x=(a+b+c)/3\n",
    "print(f\"rata rata dari 3 bilangan bulat tersebut adalah x={x}\")"
   ]
  },
  {
   "cell_type": "code",
   "execution_count": 24,
   "id": "e27ff306-1c2b-432e-a162-d492eac38393",
   "metadata": {},
   "outputs": [
    {
     "name": "stdin",
     "output_type": "stream",
     "text": [
      "masukkan nilai x:  5\n"
     ]
    },
    {
     "name": "stdout",
     "output_type": "stream",
     "text": [
      "263.0\n"
     ]
    }
   ],
   "source": [
    "#menghitung persamaan kuadrat\n",
    "x=int(input(\"masukkan nilai x: \"))\n",
    "f=(2*x**3+2*x+(15/x))\n",
    "print(f)"
   ]
  },
  {
   "cell_type": "code",
   "execution_count": 25,
   "id": "e725fab6-ba0c-41ad-aeb8-201b66c4338e",
   "metadata": {},
   "outputs": [
    {
     "name": "stdin",
     "output_type": "stream",
     "text": [
      "titik x1:  -3\n",
      "titik y1:  4\n",
      "titik x2:  2\n",
      "titik y2:  4\n"
     ]
    },
    {
     "name": "stdout",
     "output_type": "stream",
     "text": [
      "5.0\n"
     ]
    }
   ],
   "source": [
    "x1=int(input(\"titik x1: \"))\n",
    "y1=int(input(\"titik y1: \"))\n",
    "x2=int(input(\"titik x2: \"))\n",
    "y2=int(input(\"titik y2: \"))\n",
    "\n",
    "d= math.sqrt (((x2-x1)**2)+((y2-y1)**2))\n",
    "print(d)"
   ]
  },
  {
   "cell_type": "code",
   "execution_count": null,
   "id": "789cbd3a-0cd9-4338-9d0f-9cb00974b49e",
   "metadata": {},
   "outputs": [],
   "source": []
  }
 ],
 "metadata": {
  "kernelspec": {
   "display_name": "Python 3 (ipykernel)",
   "language": "python",
   "name": "python3"
  },
  "language_info": {
   "codemirror_mode": {
    "name": "ipython",
    "version": 3
   },
   "file_extension": ".py",
   "mimetype": "text/x-python",
   "name": "python",
   "nbconvert_exporter": "python",
   "pygments_lexer": "ipython3",
   "version": "3.12.7"
  }
 },
 "nbformat": 4,
 "nbformat_minor": 5
}
